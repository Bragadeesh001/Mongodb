{
 "cells": [
  {
   "cell_type": "markdown",
   "id": "42d31420",
   "metadata": {},
   "source": [
    "## Mongodb connection with python"
   ]
  },
  {
   "cell_type": "code",
   "execution_count": 1,
   "id": "a41563f2",
   "metadata": {},
   "outputs": [],
   "source": [
    "#importing the libraries\n",
    "import pymongo"
   ]
  },
  {
   "cell_type": "code",
   "execution_count": 2,
   "id": "328e4586",
   "metadata": {},
   "outputs": [],
   "source": [
    "#creating client\n",
    "client=pymongo.MongoClient('mongodb://127.0.0.1:27017/')"
   ]
  },
  {
   "cell_type": "code",
   "execution_count": 3,
   "id": "ffb7620e",
   "metadata": {},
   "outputs": [],
   "source": [
    "#creating database\n",
    "mydb=client['school']"
   ]
  },
  {
   "cell_type": "code",
   "execution_count": 4,
   "id": "49c133b4",
   "metadata": {},
   "outputs": [],
   "source": [
    "#creating collection\n",
    "collection=mydb.staff"
   ]
  },
  {
   "cell_type": "code",
   "execution_count": 6,
   "id": "4569e02b",
   "metadata": {},
   "outputs": [],
   "source": [
    "#creating multiple records\n",
    "records=[{\n",
    "    'name':'krinaveni',\n",
    "    'subject':'science'\n",
    "},{\n",
    "    'name':'mani',\n",
    "    'subject':'computer'\n",
    "}]"
   ]
  },
  {
   "cell_type": "code",
   "execution_count": 7,
   "id": "d602855c",
   "metadata": {},
   "outputs": [
    {
     "data": {
      "text/plain": [
       "<pymongo.results.InsertManyResult at 0x234f6b55720>"
      ]
     },
     "execution_count": 7,
     "metadata": {},
     "output_type": "execute_result"
    }
   ],
   "source": [
    "#inserting multiple records\n",
    "collection.insert_many(records)"
   ]
  },
  {
   "cell_type": "markdown",
   "id": "51bb7cc1",
   "metadata": {},
   "source": [
    "## Querying json documents"
   ]
  },
  {
   "cell_type": "code",
   "execution_count": 8,
   "id": "61021338",
   "metadata": {},
   "outputs": [
    {
     "data": {
      "text/plain": [
       "{'_id': ObjectId('631325e4134f715c25572871'),\n",
       " 'name': 'krinaveni',\n",
       " 'subject': 'science'}"
      ]
     },
     "execution_count": 8,
     "metadata": {},
     "output_type": "execute_result"
    }
   ],
   "source": [
    "#simple way of query\n",
    "\n",
    "collection.find_one({})"
   ]
  },
  {
   "cell_type": "code",
   "execution_count": 9,
   "id": "2a19d61b",
   "metadata": {},
   "outputs": [
    {
     "name": "stdout",
     "output_type": "stream",
     "text": [
      "{'_id': ObjectId('631325e4134f715c25572871'), 'name': 'krinaveni', 'subject': 'science'}\n",
      "{'_id': ObjectId('631325e4134f715c25572872'), 'name': 'mani', 'subject': 'computer'}\n"
     ]
    }
   ],
   "source": [
    "#getting all records\n",
    "#select * from table_name\n",
    "\n",
    "for records in collection.find({}):\n",
    "    print(records)"
   ]
  },
  {
   "cell_type": "code",
   "execution_count": 15,
   "id": "31191f49",
   "metadata": {},
   "outputs": [
    {
     "name": "stdout",
     "output_type": "stream",
     "text": [
      "{'_id': ObjectId('631325e4134f715c25572871'), 'name': 'krinaveni', 'subject': 'science'}\n",
      "{'_id': ObjectId('631325e4134f715c25572872'), 'name': 'mani', 'subject': 'computer'}\n"
     ]
    }
   ],
   "source": [
    "# or operator - $or\n",
    "\n",
    "for records in collection.find({'$or':[{'name':'mani'},{'subject':'science'}]}):\n",
    "    print(records)"
   ]
  },
  {
   "cell_type": "code",
   "execution_count": 16,
   "id": "0cb44e41",
   "metadata": {},
   "outputs": [
    {
     "name": "stdout",
     "output_type": "stream",
     "text": [
      "{'_id': ObjectId('631325e4134f715c25572872'), 'name': 'mani', 'subject': 'computer'}\n"
     ]
    }
   ],
   "source": [
    "# and operator - $and\n",
    "\n",
    "for records in collection.find({'$and':[{'name':'mani'},{'subject':'computer'}]}):\n",
    "    print(records)"
   ]
  },
  {
   "cell_type": "code",
   "execution_count": 18,
   "id": "0bdd6a1f",
   "metadata": {},
   "outputs": [
    {
     "name": "stdout",
     "output_type": "stream",
     "text": [
      "{'_id': ObjectId('631325e4134f715c25572871'), 'name': 'krinaveni', 'subject': 'science'}\n",
      "{'_id': ObjectId('631325e4134f715c25572872'), 'name': 'mani', 'subject': 'computer'}\n"
     ]
    }
   ],
   "source": [
    "# in operator -$in\n",
    "\n",
    "for records in collection.find({'subject':{'$in':['computer','science']}}):\n",
    "    print(records)"
   ]
  },
  {
   "cell_type": "code",
   "execution_count": 20,
   "id": "1f575cbb",
   "metadata": {},
   "outputs": [
    {
     "data": {
      "text/plain": [
       "<pymongo.results.InsertManyResult at 0x234f6b56980>"
      ]
     },
     "execution_count": 20,
     "metadata": {},
     "output_type": "execute_result"
    }
   ],
   "source": [
    "#creating more records with age\n",
    "\n",
    "records=[{\n",
    "    'name':'aaa',\n",
    "    'subject':'social',\n",
    "    'age':30\n",
    "},{\n",
    "    'name':'bbb',\n",
    "    'subject':'python',\n",
    "    'age':20\n",
    "}]\n",
    "\n",
    "collection.insert_many(records)"
   ]
  },
  {
   "cell_type": "code",
   "execution_count": 22,
   "id": "a024c259",
   "metadata": {},
   "outputs": [
    {
     "name": "stdout",
     "output_type": "stream",
     "text": [
      "{'_id': ObjectId('63133117134f715c25572874'), 'name': 'bbb', 'subject': 'python', 'age': 20}\n"
     ]
    }
   ],
   "source": [
    "# lesser than operator - #lt\n",
    "\n",
    "for records in collection.find({'age':{'$lt':30}}):\n",
    "    print(records)"
   ]
  },
  {
   "cell_type": "code",
   "execution_count": 23,
   "id": "269d19b0",
   "metadata": {},
   "outputs": [
    {
     "name": "stdout",
     "output_type": "stream",
     "text": [
      "{'_id': ObjectId('63133117134f715c25572873'), 'name': 'aaa', 'subject': 'social', 'age': 30}\n"
     ]
    }
   ],
   "source": [
    "# greater than operator - $gt\n",
    "\n",
    "for records in collection.find({'age':{'$gt':20}}):\n",
    "    print(records)"
   ]
  },
  {
   "cell_type": "code",
   "execution_count": 25,
   "id": "e9e31274",
   "metadata": {},
   "outputs": [
    {
     "data": {
      "text/plain": [
       "<pymongo.results.InsertOneResult at 0x234f6b56d70>"
      ]
     },
     "execution_count": 25,
     "metadata": {},
     "output_type": "execute_result"
    }
   ],
   "source": [
    "# inserting a nested record\n",
    "\n",
    "records={\n",
    "    'name':'ccc',\n",
    "    'subject':'java',\n",
    "    'age':25,\n",
    "    'size':{\n",
    "        'height':172,\n",
    "        'weight':65\n",
    "    }\n",
    "}\n",
    "\n",
    "collection.insert_one(records)"
   ]
  },
  {
   "cell_type": "markdown",
   "id": "51159bd1",
   "metadata": {},
   "source": [
    "## Updating json document\n",
    "1. update_one()\n",
    "2. update_many()\n",
    "3. replace_one()"
   ]
  },
  {
   "cell_type": "code",
   "execution_count": 26,
   "id": "a9cd57aa",
   "metadata": {},
   "outputs": [
    {
     "data": {
      "text/plain": [
       "<pymongo.results.UpdateResult at 0x234f4e1d1b0>"
      ]
     },
     "execution_count": 26,
     "metadata": {},
     "output_type": "execute_result"
    }
   ],
   "source": [
    "# updating one record\n",
    "#$set\n",
    "\n",
    "collection.update_one(\n",
    "    {'name':'ccc'},\n",
    "    {'$set':{'size.height':170,'age':24}}\n",
    ")"
   ]
  },
  {
   "cell_type": "code",
   "execution_count": 31,
   "id": "692d2547",
   "metadata": {},
   "outputs": [
    {
     "data": {
      "text/plain": [
       "<pymongo.results.UpdateResult at 0x234f7b5f7f0>"
      ]
     },
     "execution_count": 31,
     "metadata": {},
     "output_type": "execute_result"
    }
   ],
   "source": [
    "#updating many records\n",
    "\n",
    "collection.update_many(\n",
    "    {'age':{'$lt':35}},\n",
    "    {'$currentDate':{'lastmodified':True}}\n",
    ")"
   ]
  },
  {
   "cell_type": "code",
   "execution_count": 35,
   "id": "e850268f",
   "metadata": {},
   "outputs": [
    {
     "data": {
      "text/plain": [
       "<pymongo.results.UpdateResult at 0x234f7be3a30>"
      ]
     },
     "execution_count": 35,
     "metadata": {},
     "output_type": "execute_result"
    }
   ],
   "source": [
    "# replacing the cureent record with new record\n",
    "\n",
    "collection.replace_one(\n",
    "    {'name':'aaa'},\n",
    "    {\n",
    "        'name':'Ganesh',\n",
    "        'subject':'hadoop',\n",
    "        'age':32,\n",
    "        'size':{\n",
    "            'height':160,\n",
    "            'weight':80   \n",
    "        }\n",
    "    }\n",
    ")"
   ]
  },
  {
   "cell_type": "markdown",
   "id": "51ea278e",
   "metadata": {},
   "source": [
    "## Aggreate and Group\n",
    "1. avg\n",
    "2. sum\n",
    "3. project\n"
   ]
  },
  {
   "cell_type": "code",
   "execution_count": 37,
   "id": "ba06b615",
   "metadata": {},
   "outputs": [
    {
     "name": "stdout",
     "output_type": "stream",
     "text": [
      "{'_id': 'Ganesh', 'totalrecords': 1}\n",
      "{'_id': 'krinaveni', 'totalrecords': 1}\n",
      "{'_id': 'ccc', 'totalrecords': 1}\n",
      "{'_id': 'mani', 'totalrecords': 1}\n",
      "{'_id': 'bbb', 'totalrecords': 1}\n"
     ]
    }
   ],
   "source": [
    "# getting no of records stored\n",
    "\n",
    "result=collection.aggregate([\n",
    "    {'$group':\n",
    "    {'_id':'$name',\n",
    "    'totalrecords': {'$sum':1}}}\n",
    "])\n",
    "\n",
    "for result in result:\n",
    "    print(result)"
   ]
  },
  {
   "cell_type": "code",
   "execution_count": 39,
   "id": "32b33c24",
   "metadata": {},
   "outputs": [
    {
     "name": "stdout",
     "output_type": "stream",
     "text": [
      "{'_id': 'Ganesh', 'average_age': 32.0}\n",
      "{'_id': 'krinaveni', 'average_age': None}\n",
      "{'_id': 'ccc', 'average_age': 24.0}\n",
      "{'_id': 'mani', 'average_age': None}\n",
      "{'_id': 'bbb', 'average_age': 20.0}\n"
     ]
    }
   ],
   "source": [
    "# getting avg age\n",
    "\n",
    "result=collection.aggregate([\n",
    "    {'$group':\n",
    "    {'_id':'$name',\n",
    "    'average_age':{'$avg':'$age'}}}\n",
    "])\n",
    "\n",
    "for result in result:\n",
    "    print(result)"
   ]
  },
  {
   "cell_type": "code",
   "execution_count": 42,
   "id": "e3c47625",
   "metadata": {},
   "outputs": [
    {
     "name": "stdout",
     "output_type": "stream",
     "text": [
      "{'_id': ObjectId('631325e4134f715c25572871'), 'name': 'krinaveni', 'subject': 'science'}\n",
      "{'_id': ObjectId('631325e4134f715c25572872'), 'name': 'mani', 'subject': 'computer'}\n",
      "{'_id': ObjectId('63133117134f715c25572873'), 'name': 'Ganesh', 'subject': 'hadoop'}\n",
      "{'_id': ObjectId('63133117134f715c25572874'), 'name': 'bbb', 'subject': 'python'}\n",
      "{'_id': ObjectId('6313325e134f715c25572875'), 'name': 'ccc', 'subject': 'java'}\n"
     ]
    }
   ],
   "source": [
    "#project\n",
    "#viewing specific columns\n",
    "# select age,name from tabel_name\n",
    "\n",
    "result=collection.aggregate([\n",
    "    {'$project':\n",
    "    {'name':1,'subject':1}}\n",
    "])\n",
    "\n",
    "for result in result:\n",
    "    print(result)"
   ]
  },
  {
   "cell_type": "code",
   "execution_count": null,
   "id": "fc7484de",
   "metadata": {},
   "outputs": [],
   "source": []
  }
 ],
 "metadata": {
  "kernelspec": {
   "display_name": "Python 3 (ipykernel)",
   "language": "python",
   "name": "python3"
  },
  "language_info": {
   "codemirror_mode": {
    "name": "ipython",
    "version": 3
   },
   "file_extension": ".py",
   "mimetype": "text/x-python",
   "name": "python",
   "nbconvert_exporter": "python",
   "pygments_lexer": "ipython3",
   "version": "3.10.4"
  }
 },
 "nbformat": 4,
 "nbformat_minor": 5
}
